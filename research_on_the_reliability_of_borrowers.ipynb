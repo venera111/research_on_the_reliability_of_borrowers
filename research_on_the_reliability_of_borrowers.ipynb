{
 "cells": [
  {
   "cell_type": "markdown",
   "id": "numerous-healing",
   "metadata": {},
   "source": [
    "# Исследование надёжности заёмщиков\n",
    "\n",
    "## Описание проекта\n",
    "Заказчик — кредитный отдел банка. Нужно разобраться, влияет ли семейное положение и количество детей клиента на факт погашения кредита в срок. Входные данные от банка — статистика о платёжеспособности клиентов.\n",
    "Результаты исследования будут учтены при построении модели кредитного скоринга — специальной системы, которая оценивает способность потенциального заёмщика вернуть кредит банку.\n",
    "\n",
    "## Инструкция по выполнению\n",
    "### Шаг 1. Откройте таблицу и изучите общую информацию о данных\n",
    "Путь к файлу: data.csv. Скачать датасет\n",
    "### Шаг 2. Предобработка данных\n",
    "\n",
    "    определите и заполните пропущенные значения:\n",
    "        опишите, какие пропущенные значения вы обнаружили;\n",
    "        приведите возможные причины появления пропусков в данных;\n",
    "        объясните, по какому принципу заполнены пропуски;\n",
    "    замените вещественный тип данных на целочисленный:\n",
    "        поясните, как выбирали метод для изменения типа данных;\n",
    "    удалите дубликаты:\n",
    "        поясните, как выбирали метод для поиска и удаления дубликатов в данных;\n",
    "        приведите возможные причины появления дубликатов;\n",
    "    выделите леммы в значениях столбца с целями получения кредита:\n",
    "        опишите, как вы проводили лемматизацию целей кредита;\n",
    "    категоризируйте данные:\n",
    "        перечислите, какие «словари» вы выделили для этого набора данных, и объясните, почему.\n",
    "\n",
    "В данных могут встречаться артефакты — значения, которые не отражают действительность. Например, отрицательное количество дней трудового стажа. Для реальных данных — это нормально. Нужно описать возможные причины появления таких данных и обработать их.\n",
    "### Шаг 3. Ответьте на вопросы\n",
    "\n",
    "    Есть ли зависимость между наличием детей и возвратом кредита в срок?\n",
    "    Есть ли зависимость между семейным положением и возвратом кредита в срок?\n",
    "    Есть ли зависимость между уровнем дохода и возвратом кредита в срок?\n",
    "    Как разные цели кредита влияют на его возврат в срок?\n",
    "\n",
    "Ответы сопроводите интерпретацией — поясните, о чём именно говорит полученный вами результат.\n",
    "### Шаг 4. Напишите общий вывод\n",
    "Оформление: Задание выполните в Jupyter Notebook. Программный код заполните в ячейках типа code, текстовые пояснения — в ячейках типа markdown. Примените форматирование и заголовки.\n",
    "Описание данных\n",
    "\n",
    "    children — количество детей в семье\n",
    "    days_employed — общий трудовой стаж в днях\n",
    "    dob_years — возраст клиента в годах\n",
    "    education — уровень образования клиента\n",
    "    education_id — идентификатор уровня образования\n",
    "    family_status — семейное положение\n",
    "    family_status_id — идентификатор семейного положения\n",
    "    gender — пол клиента\n",
    "    income_type — тип занятости\n",
    "    debt — имел ли задолженность по возврату кредитов\n",
    "    total_income — ежемесячный доход\n",
    "    purpose — цель получения кредита"
   ]
  },
  {
   "cell_type": "markdown",
   "id": "tough-interaction",
   "metadata": {},
   "source": [
    "### Шаг 1. Откройте таблицу и изучите общую информацию о данных¶"
   ]
  },
  {
   "cell_type": "code",
   "execution_count": 1,
   "id": "single-senegal",
   "metadata": {},
   "outputs": [
    {
     "name": "stdout",
     "output_type": "stream",
     "text": [
      "<class 'pandas.core.frame.DataFrame'>\n",
      "RangeIndex: 21525 entries, 0 to 21524\n",
      "Data columns (total 12 columns):\n",
      " #   Column            Non-Null Count  Dtype  \n",
      "---  ------            --------------  -----  \n",
      " 0   children          21525 non-null  int64  \n",
      " 1   days_employed     19351 non-null  float64\n",
      " 2   dob_years         21525 non-null  int64  \n",
      " 3   education         21525 non-null  object \n",
      " 4   education_id      21525 non-null  int64  \n",
      " 5   family_status     21525 non-null  object \n",
      " 6   family_status_id  21525 non-null  int64  \n",
      " 7   gender            21525 non-null  object \n",
      " 8   income_type       21525 non-null  object \n",
      " 9   debt              21525 non-null  int64  \n",
      " 10  total_income      19351 non-null  float64\n",
      " 11  purpose           21525 non-null  object \n",
      "dtypes: float64(2), int64(5), object(5)\n",
      "memory usage: 2.0+ MB\n"
     ]
    }
   ],
   "source": [
    "import pandas as pd\n",
    "df = pd.read_csv('data.csv')\n",
    "df.info()"
   ]
  },
  {
   "cell_type": "code",
   "execution_count": 2,
   "id": "growing-oregon",
   "metadata": {},
   "outputs": [
    {
     "data": {
      "text/html": [
       "<div>\n",
       "<style scoped>\n",
       "    .dataframe tbody tr th:only-of-type {\n",
       "        vertical-align: middle;\n",
       "    }\n",
       "\n",
       "    .dataframe tbody tr th {\n",
       "        vertical-align: top;\n",
       "    }\n",
       "\n",
       "    .dataframe thead th {\n",
       "        text-align: right;\n",
       "    }\n",
       "</style>\n",
       "<table border=\"1\" class=\"dataframe\">\n",
       "  <thead>\n",
       "    <tr style=\"text-align: right;\">\n",
       "      <th></th>\n",
       "      <th>children</th>\n",
       "      <th>days_employed</th>\n",
       "      <th>dob_years</th>\n",
       "      <th>education</th>\n",
       "      <th>education_id</th>\n",
       "      <th>family_status</th>\n",
       "      <th>family_status_id</th>\n",
       "      <th>gender</th>\n",
       "      <th>income_type</th>\n",
       "      <th>debt</th>\n",
       "      <th>total_income</th>\n",
       "      <th>purpose</th>\n",
       "    </tr>\n",
       "  </thead>\n",
       "  <tbody>\n",
       "    <tr>\n",
       "      <th>0</th>\n",
       "      <td>1</td>\n",
       "      <td>-8437.673028</td>\n",
       "      <td>42</td>\n",
       "      <td>высшее</td>\n",
       "      <td>0</td>\n",
       "      <td>женат / замужем</td>\n",
       "      <td>0</td>\n",
       "      <td>F</td>\n",
       "      <td>сотрудник</td>\n",
       "      <td>0</td>\n",
       "      <td>253875.639453</td>\n",
       "      <td>покупка жилья</td>\n",
       "    </tr>\n",
       "    <tr>\n",
       "      <th>1</th>\n",
       "      <td>1</td>\n",
       "      <td>-4024.803754</td>\n",
       "      <td>36</td>\n",
       "      <td>среднее</td>\n",
       "      <td>1</td>\n",
       "      <td>женат / замужем</td>\n",
       "      <td>0</td>\n",
       "      <td>F</td>\n",
       "      <td>сотрудник</td>\n",
       "      <td>0</td>\n",
       "      <td>112080.014102</td>\n",
       "      <td>приобретение автомобиля</td>\n",
       "    </tr>\n",
       "    <tr>\n",
       "      <th>2</th>\n",
       "      <td>0</td>\n",
       "      <td>-5623.422610</td>\n",
       "      <td>33</td>\n",
       "      <td>Среднее</td>\n",
       "      <td>1</td>\n",
       "      <td>женат / замужем</td>\n",
       "      <td>0</td>\n",
       "      <td>M</td>\n",
       "      <td>сотрудник</td>\n",
       "      <td>0</td>\n",
       "      <td>145885.952297</td>\n",
       "      <td>покупка жилья</td>\n",
       "    </tr>\n",
       "    <tr>\n",
       "      <th>3</th>\n",
       "      <td>3</td>\n",
       "      <td>-4124.747207</td>\n",
       "      <td>32</td>\n",
       "      <td>среднее</td>\n",
       "      <td>1</td>\n",
       "      <td>женат / замужем</td>\n",
       "      <td>0</td>\n",
       "      <td>M</td>\n",
       "      <td>сотрудник</td>\n",
       "      <td>0</td>\n",
       "      <td>267628.550329</td>\n",
       "      <td>дополнительное образование</td>\n",
       "    </tr>\n",
       "    <tr>\n",
       "      <th>4</th>\n",
       "      <td>0</td>\n",
       "      <td>340266.072047</td>\n",
       "      <td>53</td>\n",
       "      <td>среднее</td>\n",
       "      <td>1</td>\n",
       "      <td>гражданский брак</td>\n",
       "      <td>1</td>\n",
       "      <td>F</td>\n",
       "      <td>пенсионер</td>\n",
       "      <td>0</td>\n",
       "      <td>158616.077870</td>\n",
       "      <td>сыграть свадьбу</td>\n",
       "    </tr>\n",
       "  </tbody>\n",
       "</table>\n",
       "</div>"
      ],
      "text/plain": [
       "   children  days_employed  dob_years education  education_id  \\\n",
       "0         1   -8437.673028         42    высшее             0   \n",
       "1         1   -4024.803754         36   среднее             1   \n",
       "2         0   -5623.422610         33   Среднее             1   \n",
       "3         3   -4124.747207         32   среднее             1   \n",
       "4         0  340266.072047         53   среднее             1   \n",
       "\n",
       "      family_status  family_status_id gender income_type  debt   total_income  \\\n",
       "0   женат / замужем                 0      F   сотрудник     0  253875.639453   \n",
       "1   женат / замужем                 0      F   сотрудник     0  112080.014102   \n",
       "2   женат / замужем                 0      M   сотрудник     0  145885.952297   \n",
       "3   женат / замужем                 0      M   сотрудник     0  267628.550329   \n",
       "4  гражданский брак                 1      F   пенсионер     0  158616.077870   \n",
       "\n",
       "                      purpose  \n",
       "0               покупка жилья  \n",
       "1     приобретение автомобиля  \n",
       "2               покупка жилья  \n",
       "3  дополнительное образование  \n",
       "4             сыграть свадьбу  "
      ]
     },
     "execution_count": 2,
     "metadata": {},
     "output_type": "execute_result"
    }
   ],
   "source": [
    "df.head()"
   ]
  },
  {
   "cell_type": "markdown",
   "id": "discrete-scheme",
   "metadata": {},
   "source": [
    "#### Вывод\n",
    "Всего в таблице 12 столбцов.\n",
    "Проблемы:\n",
    "1. Пропущены значения в days_employed, total_income.\n",
    "2. Количество детей -1 в столбце children (47 строк). Количество детей 20 в столбце children (76 строк): удалим их, так как они занимают 0.2% всех данных.\n",
    "3. Отрицательные значения в столбце days_employed, пропущены значения.\n",
    "4. Возраст клиента в столбце dob_years имеет значение 0. Заменим средним значением, так как от медианы оно сильно не отличается.\n",
    "5. Уровень образования в столбце education имеет верхний регистр. Приведем к нижнему регистру.\n",
    "6. Семейное положение в столбце family_status приведем к нижнему регистру.\n",
    "7. Гендер в столце gender имеет значение XNA (1 строка). Удалим ее без потери данных."
   ]
  },
  {
   "cell_type": "markdown",
   "id": "public-overhead",
   "metadata": {},
   "source": [
    "### Шаг 2. Предобработка данных\n",
    "#### 1. Обработка пропусков"
   ]
  },
  {
   "cell_type": "code",
   "execution_count": 3,
   "id": "ready-secret",
   "metadata": {},
   "outputs": [
    {
     "data": {
      "text/plain": [
       "children               0\n",
       "days_employed       2174\n",
       "dob_years              0\n",
       "education              0\n",
       "education_id           0\n",
       "family_status          0\n",
       "family_status_id       0\n",
       "gender                 0\n",
       "income_type            0\n",
       "debt                   0\n",
       "total_income        2174\n",
       "purpose                0\n",
       "dtype: int64"
      ]
     },
     "execution_count": 3,
     "metadata": {},
     "output_type": "execute_result"
    }
   ],
   "source": [
    "df.isna().sum()"
   ]
  },
  {
   "cell_type": "markdown",
   "id": "ideal-madison",
   "metadata": {},
   "source": [
    "В days_employed и total_income пропущено 2174 значений. Выясним, зависят ли они друг от друга."
   ]
  },
  {
   "cell_type": "code",
   "execution_count": 4,
   "id": "focused-static",
   "metadata": {},
   "outputs": [
    {
     "data": {
      "text/plain": [
       "(2174, 12)"
      ]
     },
     "execution_count": 4,
     "metadata": {},
     "output_type": "execute_result"
    }
   ],
   "source": [
    "df[(df['days_employed'].isna() == True) & (df['total_income'].isna() == True)].shape"
   ]
  },
  {
   "cell_type": "markdown",
   "id": "resident-collaboration",
   "metadata": {},
   "source": [
    "Выяснили, что в столбцах days_employed и total_income пропуски не случайны и зависят друг от друга. Данные пропуски не будем удалять, так как они составляют 10% от всех данных.\n",
    "В столбце days_employed (стаж работы в днях) существуют достаточно крупные значения, которые, скорее всего, выражены в часах. Максимальное значение 401755. Если поделить 401755 на 365 дней в году, а после на 24 часа в сутки, то получим 45 лет стажа работы. Допустим, что это максимальный стаж работы. Тогда все значения, которые выше 45 лет, будет делить на 24 часа, чтобы привести их к дням.\n",
    "С помощью метода abs() изменим отрицательные значения на положительные."
   ]
  },
  {
   "cell_type": "code",
   "execution_count": 5,
   "id": "potential-logging",
   "metadata": {},
   "outputs": [],
   "source": [
    "df['days_employed'] = df['days_employed'].abs()"
   ]
  },
  {
   "cell_type": "code",
   "execution_count": 6,
   "id": "textile-building",
   "metadata": {},
   "outputs": [],
   "source": [
    "def convert_hours_to_days(hours):\n",
    "    if hours > 45 * 365:\n",
    "        return hours / 24\n",
    "    else:\n",
    "        return hours\n",
    "df['days_employed'] = df['days_employed'].apply(convert_hours_to_days)"
   ]
  },
  {
   "cell_type": "code",
   "execution_count": 7,
   "id": "reasonable-symposium",
   "metadata": {},
   "outputs": [],
   "source": [
    "median_days = df['days_employed'].median()"
   ]
  },
  {
   "cell_type": "code",
   "execution_count": 8,
   "id": "athletic-replication",
   "metadata": {},
   "outputs": [],
   "source": [
    "df['days_employed'] = df['days_employed'].fillna(median_days)"
   ]
  },
  {
   "cell_type": "code",
   "execution_count": 9,
   "id": "naughty-folder",
   "metadata": {},
   "outputs": [
    {
     "data": {
      "text/plain": [
       "0"
      ]
     },
     "execution_count": 9,
     "metadata": {},
     "output_type": "execute_result"
    }
   ],
   "source": [
    "df['days_employed'].isna().sum()"
   ]
  },
  {
   "cell_type": "markdown",
   "id": "considered-college",
   "metadata": {},
   "source": [
    "Мы избавились от отрицательных значений с помощью метода abs, далее с помощью метода apply применили функцию, которая уменьшает значения и приводит их к дням. После заменили все пропущенные значения медианным. Убедились, что пропущенные значения отсутствуют."
   ]
  },
  {
   "cell_type": "markdown",
   "id": "announced-progressive",
   "metadata": {},
   "source": [
    "Пропуски в столбце total_income заменим медианными значениями по категориям занятости (income_type). Создадим сводную таблицу, переведем ее в словарь. Создадим функцию, которую применим в столбцу income_type с помощью apply. На вход функция будет принимать строку датафрейма, а возвращать медианное значение по ключу словаря.\n",
    "Применим с помощью apply функцию к тем ячейкам, где есть пропуски в total_income."
   ]
  },
  {
   "cell_type": "code",
   "execution_count": 10,
   "id": "conceptual-replica",
   "metadata": {},
   "outputs": [],
   "source": [
    "medians = df.groupby('income_type')['total_income'].median()"
   ]
  },
  {
   "cell_type": "code",
   "execution_count": 11,
   "id": "sixth-salon",
   "metadata": {},
   "outputs": [
    {
     "data": {
      "text/plain": [
       "income_type\n",
       "безработный        131339.751676\n",
       "в декрете           53829.130729\n",
       "госслужащий        150447.935283\n",
       "компаньон          172357.950966\n",
       "пенсионер          118514.486412\n",
       "предприниматель    499163.144947\n",
       "сотрудник          142594.396847\n",
       "студент             98201.625314\n",
       "Name: total_income, dtype: float64"
      ]
     },
     "execution_count": 11,
     "metadata": {},
     "output_type": "execute_result"
    }
   ],
   "source": [
    "medians"
   ]
  },
  {
   "cell_type": "code",
   "execution_count": 12,
   "id": "e9521c1b",
   "metadata": {},
   "outputs": [
    {
     "data": {
      "text/plain": [
       "12      NaN\n",
       "26      NaN\n",
       "29      NaN\n",
       "41      NaN\n",
       "55      NaN\n",
       "         ..\n",
       "21489   NaN\n",
       "21495   NaN\n",
       "21497   NaN\n",
       "21502   NaN\n",
       "21510   NaN\n",
       "Name: total_income, Length: 2174, dtype: float64"
      ]
     },
     "execution_count": 12,
     "metadata": {},
     "output_type": "execute_result"
    }
   ],
   "source": [
    "df.loc[df['total_income'].isna(), 'total_income']"
   ]
  },
  {
   "cell_type": "code",
   "execution_count": 13,
   "id": "explicit-eating",
   "metadata": {},
   "outputs": [],
   "source": [
    "def fillna_median(row):\n",
    "    return medians[row]\n",
    "df.loc[df['total_income'].isna(), 'total_income'] = df['income_type'].apply(fillna_median)"
   ]
  },
  {
   "cell_type": "code",
   "execution_count": 14,
   "id": "corrected-sleeve",
   "metadata": {},
   "outputs": [
    {
     "data": {
      "text/plain": [
       "0"
      ]
     },
     "execution_count": 14,
     "metadata": {},
     "output_type": "execute_result"
    }
   ],
   "source": [
    "df['total_income'].isna().sum()"
   ]
  },
  {
   "cell_type": "markdown",
   "id": "general-cookie",
   "metadata": {},
   "source": [
    "Пропущенные значения заполнили медианными значениями по группе занятости.\n",
    "\n",
    "В столбце children существуют значения -1 и 20. Удалим их, так как объем данных занимает 0.2% от всего датасета. Возраст в столбце dob_years заменим на среднее значение. Пол XNA в столбце gender удалим, так это всего лишь единственная строка."
   ]
  },
  {
   "cell_type": "code",
   "execution_count": 15,
   "id": "commercial-spider",
   "metadata": {},
   "outputs": [],
   "source": [
    "df = df[(df['children'] != -1) & (df['children'] != 20)]"
   ]
  },
  {
   "cell_type": "code",
   "execution_count": 16,
   "id": "atomic-austria",
   "metadata": {},
   "outputs": [],
   "source": [
    "dob_years_mean = int(df['dob_years'].mean())\n",
    "df['dob_years'] = df['dob_years'].replace(0, dob_years_mean)\n",
    "# df['children'].unique()\n",
    "# df['dob_years'].unique()"
   ]
  },
  {
   "cell_type": "markdown",
   "id": "suspended-volleyball",
   "metadata": {},
   "source": [
    "Убедились, что некорректные значения и пропуски отсутсвуют.\n",
    "\n",
    "#### Вывод\n",
    "Пропущенные значения в столбцах days_employed и total_income пропуски не случайны и зависят друг от друга. Возможно, намеренно пропущены значения, так как клиенты боялись, что это повлияет на получение кредита. Заполнили данные значения медианой, так как среднее из-за выбросов искажает данные.\n",
    "\n",
    "Удалили строки с некорректными значениями в столбце children -1 и 20, так как это не влияет на объем данных.\n",
    "\n",
    "В столбце dob_years возраста заменили 0 на среднее значение. Возможно, это ошибка при заполнении анкеты при заявке на получение кредита."
   ]
  },
  {
   "cell_type": "markdown",
   "id": "middle-single",
   "metadata": {},
   "source": [
    "#### 2. Изменение типов данных\n",
    "Стаж и доход заменим на тип int, так как он будет проще восприниматься. Использует метод astype."
   ]
  },
  {
   "cell_type": "code",
   "execution_count": 17,
   "id": "verified-wallet",
   "metadata": {},
   "outputs": [],
   "source": [
    "df['days_employed'] = df['days_employed'].astype(int)\n",
    "df['total_income'] = df['total_income'].astype(int)"
   ]
  },
  {
   "cell_type": "markdown",
   "id": "headed-equipment",
   "metadata": {},
   "source": [
    "Заменили тип данных float на тип данных int для читабельности датасета с помощью astype(int).\n",
    "\n",
    "#### 3. Поиск дубликатов\n",
    "Проверим, какое количество дубликатов. Далее заменим верхний регистр в столбцах education и family_status на нижний регистр. И заново посчитаем количество дубликатов. Их оказалось 71. Удалим данные дубликаты, заменяя данные."
   ]
  },
  {
   "cell_type": "code",
   "execution_count": 18,
   "id": "efficient-season",
   "metadata": {},
   "outputs": [
    {
     "data": {
      "text/plain": [
       "54"
      ]
     },
     "execution_count": 18,
     "metadata": {},
     "output_type": "execute_result"
    }
   ],
   "source": [
    "df.duplicated().sum()"
   ]
  },
  {
   "cell_type": "code",
   "execution_count": 19,
   "id": "bronze-commonwealth",
   "metadata": {},
   "outputs": [],
   "source": [
    "df['education'] = df['education'].str.lower()\n",
    "df['family_status'] = df['family_status'].str.lower()"
   ]
  },
  {
   "cell_type": "code",
   "execution_count": 20,
   "id": "turkish-brighton",
   "metadata": {},
   "outputs": [
    {
     "data": {
      "text/plain": [
       "71"
      ]
     },
     "execution_count": 20,
     "metadata": {},
     "output_type": "execute_result"
    }
   ],
   "source": [
    "df.duplicated().sum()"
   ]
  },
  {
   "cell_type": "code",
   "execution_count": 21,
   "id": "domestic-tattoo",
   "metadata": {},
   "outputs": [],
   "source": [
    "df = df.drop_duplicates().reset_index(drop = True)"
   ]
  },
  {
   "cell_type": "code",
   "execution_count": 22,
   "id": "junior-sheriff",
   "metadata": {},
   "outputs": [
    {
     "data": {
      "text/plain": [
       "21331"
      ]
     },
     "execution_count": 22,
     "metadata": {},
     "output_type": "execute_result"
    }
   ],
   "source": [
    "len(df)"
   ]
  },
  {
   "cell_type": "markdown",
   "id": "together-handling",
   "metadata": {},
   "source": [
    "#### Вывод\n",
    "Удалены 71 грубый дубликат, заменены индексы на новые с помощью метода reset_index(drop=True). Причина дубликатов - верхний регистр.\n",
    "\n",
    "#### 4. Лемматизация\n",
    "В столбце purpose сделаем лемматизацию, чтобы группировать цели кредита."
   ]
  },
  {
   "cell_type": "code",
   "execution_count": 27,
   "id": "modular-beatles",
   "metadata": {},
   "outputs": [
    {
     "name": "stderr",
     "output_type": "stream",
     "text": [
      "Installing mystem to /home/yana/.local/bin/mystem from http://download.cdn.yandex.net/mystem/mystem-3.1-linux-64bit.tar.gz\n"
     ]
    }
   ],
   "source": [
    "from pymystem3 import Mystem\n",
    "m = Mystem()"
   ]
  },
  {
   "cell_type": "code",
   "execution_count": 28,
   "id": "mexican-synthetic",
   "metadata": {},
   "outputs": [
    {
     "data": {
      "text/plain": [
       "array(['покупка жилья', 'приобретение автомобиля',\n",
       "       'дополнительное образование', 'сыграть свадьбу',\n",
       "       'операции с жильем', 'образование', 'на проведение свадьбы',\n",
       "       'покупка жилья для семьи', 'покупка недвижимости',\n",
       "       'покупка коммерческой недвижимости', 'покупка жилой недвижимости',\n",
       "       'строительство собственной недвижимости', 'недвижимость',\n",
       "       'строительство недвижимости', 'на покупку подержанного автомобиля',\n",
       "       'на покупку своего автомобиля',\n",
       "       'операции с коммерческой недвижимостью',\n",
       "       'строительство жилой недвижимости', 'жилье',\n",
       "       'операции со своей недвижимостью', 'автомобили',\n",
       "       'заняться образованием', 'сделка с подержанным автомобилем',\n",
       "       'получение образования', 'автомобиль', 'свадьба',\n",
       "       'получение дополнительного образования', 'покупка своего жилья',\n",
       "       'операции с недвижимостью', 'получение высшего образования',\n",
       "       'свой автомобиль', 'сделка с автомобилем',\n",
       "       'профильное образование', 'высшее образование',\n",
       "       'покупка жилья для сдачи', 'на покупку автомобиля', 'ремонт жилью',\n",
       "       'заняться высшим образованием'], dtype=object)"
      ]
     },
     "execution_count": 28,
     "metadata": {},
     "output_type": "execute_result"
    }
   ],
   "source": [
    "df['purpose'].unique()"
   ]
  },
  {
   "cell_type": "code",
   "execution_count": 29,
   "id": "velvet-collar",
   "metadata": {},
   "outputs": [],
   "source": [
    "lemma = df['purpose'].apply(m.lemmatize)"
   ]
  },
  {
   "cell_type": "code",
   "execution_count": 30,
   "id": "honest-thompson",
   "metadata": {},
   "outputs": [
    {
     "data": {
      "text/plain": [
       "0                             [покупка,  , жилье, \\n]\n",
       "1                   [приобретение,  , автомобиль, \\n]\n",
       "2                             [покупка,  , жилье, \\n]\n",
       "3                [дополнительный,  , образование, \\n]\n",
       "4                           [сыграть,  , свадьба, \\n]\n",
       "                             ...                     \n",
       "21326                  [операция,  , с,  , жилье, \\n]\n",
       "21327               [сделка,  , с,  , автомобиль, \\n]\n",
       "21328                              [недвижимость, \\n]\n",
       "21329    [на,  , покупка,  , свой,  , автомобиль, \\n]\n",
       "21330             [на,  , покупка,  , автомобиль, \\n]\n",
       "Name: purpose, Length: 21331, dtype: object"
      ]
     },
     "execution_count": 30,
     "metadata": {},
     "output_type": "execute_result"
    }
   ],
   "source": [
    "lemma"
   ]
  },
  {
   "cell_type": "code",
   "execution_count": 31,
   "id": "ongoing-pilot",
   "metadata": {},
   "outputs": [],
   "source": [
    "lemma = lemma.str.join('')"
   ]
  },
  {
   "cell_type": "code",
   "execution_count": 32,
   "id": "forward-wonder",
   "metadata": {},
   "outputs": [
    {
     "data": {
      "text/plain": [
       "0                     покупка жилье\\n\n",
       "1           приобретение автомобиль\\n\n",
       "2                     покупка жилье\\n\n",
       "3        дополнительный образование\\n\n",
       "4                   сыграть свадьба\\n\n",
       "                     ...             \n",
       "21326              операция с жилье\\n\n",
       "21327           сделка с автомобиль\\n\n",
       "21328                  недвижимость\\n\n",
       "21329    на покупка свой автомобиль\\n\n",
       "21330         на покупка автомобиль\\n\n",
       "Name: purpose, Length: 21331, dtype: object"
      ]
     },
     "execution_count": 32,
     "metadata": {},
     "output_type": "execute_result"
    }
   ],
   "source": [
    "lemma"
   ]
  },
  {
   "cell_type": "code",
   "execution_count": 33,
   "id": "current-cosmetic",
   "metadata": {},
   "outputs": [],
   "source": [
    "from collections import Counter"
   ]
  },
  {
   "cell_type": "code",
   "execution_count": 34,
   "id": "phantom-luxembourg",
   "metadata": {},
   "outputs": [
    {
     "data": {
      "text/plain": [
       "Counter({'покупка жилье\\n': 640,\n",
       "         'приобретение автомобиль\\n': 459,\n",
       "         'дополнительный образование\\n': 455,\n",
       "         'сыграть свадьба\\n': 760,\n",
       "         'операция с жилье\\n': 647,\n",
       "         'образование\\n': 442,\n",
       "         'на проведение свадьба\\n': 763,\n",
       "         'покупка жилье для семья\\n': 637,\n",
       "         'покупка недвижимость\\n': 616,\n",
       "         'покупка коммерческий недвижимость\\n': 658,\n",
       "         'покупка жилой недвижимость\\n': 602,\n",
       "         'строительство собственный недвижимость\\n': 628,\n",
       "         'недвижимость\\n': 631,\n",
       "         'строительство недвижимость\\n': 619,\n",
       "         'на покупка подержать автомобиль\\n': 471,\n",
       "         'на покупка свой автомобиль\\n': 504,\n",
       "         'операция с коммерческий недвижимость\\n': 645,\n",
       "         'строительство жилой недвижимость\\n': 620,\n",
       "         'жилье\\n': 641,\n",
       "         'операция со свой недвижимость\\n': 623,\n",
       "         'автомобиль\\n': 967,\n",
       "         'заниматься образование\\n': 408,\n",
       "         'сделка с подержанный автомобиль\\n': 481,\n",
       "         'получение образование\\n': 440,\n",
       "         'свадьба\\n': 790,\n",
       "         'получение дополнительный образование\\n': 444,\n",
       "         'покупка свой жилье\\n': 619,\n",
       "         'операция с недвижимость\\n': 672,\n",
       "         'получение высокий образование\\n': 425,\n",
       "         'свой автомобиль\\n': 473,\n",
       "         'сделка с автомобиль\\n': 455,\n",
       "         'профильный образование\\n': 432,\n",
       "         'высокий образование\\n': 446,\n",
       "         'покупка жилье для сдача\\n': 649,\n",
       "         'на покупка автомобиль\\n': 469,\n",
       "         'ремонт жилье\\n': 604,\n",
       "         'заниматься высокий образование\\n': 496})"
      ]
     },
     "execution_count": 34,
     "metadata": {},
     "output_type": "execute_result"
    }
   ],
   "source": [
    "Counter(lemma)"
   ]
  },
  {
   "cell_type": "code",
   "execution_count": 35,
   "id": "convinced-charm",
   "metadata": {},
   "outputs": [
    {
     "data": {
      "text/plain": [
       "pandas.core.series.Series"
      ]
     },
     "execution_count": 35,
     "metadata": {},
     "output_type": "execute_result"
    }
   ],
   "source": [
    "type(lemma)"
   ]
  },
  {
   "cell_type": "markdown",
   "id": "blond-connecticut",
   "metadata": {},
   "source": [
    "#### Вывод\n",
    "Выделяем 4 цели кредита: недвижимость, автомобиль, свадьба, образование.\n",
    "\n",
    "#### 4. Категоризация данных"
   ]
  },
  {
   "cell_type": "code",
   "execution_count": 38,
   "id": "taken-scout",
   "metadata": {},
   "outputs": [],
   "source": [
    "def purpose_cat(list):\n",
    "    if 'автомобиль' in list:\n",
    "        return 'автомобиль'\n",
    "    \n",
    "    elif 'жилье' in list:\n",
    "        return 'жилье'\n",
    "    \n",
    "    elif 'недвижимость' in list:\n",
    "        return 'жилье'\n",
    "    \n",
    "    elif 'образование' in list:\n",
    "        return 'образование'\n",
    "    \n",
    "    else:\n",
    "        return 'свадьба'"
   ]
  },
  {
   "cell_type": "code",
   "execution_count": 39,
   "id": "nearby-mining",
   "metadata": {},
   "outputs": [
    {
     "data": {
      "text/plain": [
       "жилье          10751\n",
       "автомобиль      4279\n",
       "образование     3988\n",
       "свадьба         2313\n",
       "Name: purpose_category, dtype: int64"
      ]
     },
     "execution_count": 39,
     "metadata": {},
     "output_type": "execute_result"
    }
   ],
   "source": [
    "df['purpose_category'] = lemma.apply(purpose_cat)\n",
    "df['purpose_category'].value_counts()"
   ]
  },
  {
   "cell_type": "markdown",
   "id": "stainless-desire",
   "metadata": {},
   "source": [
    "#### Вывод\n",
    "Большую часть занимает цель кредита - жилье. Далее идет цель - автомобиль, после образование и свадьба. Можно было бы разделить категорию \"жилье\" на подкатегории, но тогда бы получилось много категорий.\n",
    "\n",
    "### Шаг 3. Ответьте на вопросы\n",
    "1. Есть ли зависимость между наличием детей и возвратом кредита в срок?\n",
    "\n",
    "Сгруппируем таблицу по столбцу children и к столбцу debt применим функции count и mean."
   ]
  },
  {
   "cell_type": "code",
   "execution_count": 40,
   "id": "informational-queens",
   "metadata": {},
   "outputs": [
    {
     "data": {
      "text/html": [
       "<div>\n",
       "<style scoped>\n",
       "    .dataframe tbody tr th:only-of-type {\n",
       "        vertical-align: middle;\n",
       "    }\n",
       "\n",
       "    .dataframe tbody tr th {\n",
       "        vertical-align: top;\n",
       "    }\n",
       "\n",
       "    .dataframe thead tr th {\n",
       "        text-align: left;\n",
       "    }\n",
       "\n",
       "    .dataframe thead tr:last-of-type th {\n",
       "        text-align: right;\n",
       "    }\n",
       "</style>\n",
       "<table border=\"1\" class=\"dataframe\">\n",
       "  <thead>\n",
       "    <tr>\n",
       "      <th></th>\n",
       "      <th colspan=\"2\" halign=\"left\">debt</th>\n",
       "    </tr>\n",
       "    <tr>\n",
       "      <th></th>\n",
       "      <th>count</th>\n",
       "      <th>mean</th>\n",
       "    </tr>\n",
       "    <tr>\n",
       "      <th>children</th>\n",
       "      <th></th>\n",
       "      <th></th>\n",
       "    </tr>\n",
       "  </thead>\n",
       "  <tbody>\n",
       "    <tr>\n",
       "      <th>0</th>\n",
       "      <td>14091</td>\n",
       "      <td>0.075438</td>\n",
       "    </tr>\n",
       "    <tr>\n",
       "      <th>1</th>\n",
       "      <td>4808</td>\n",
       "      <td>0.092346</td>\n",
       "    </tr>\n",
       "    <tr>\n",
       "      <th>2</th>\n",
       "      <td>2052</td>\n",
       "      <td>0.094542</td>\n",
       "    </tr>\n",
       "    <tr>\n",
       "      <th>3</th>\n",
       "      <td>330</td>\n",
       "      <td>0.081818</td>\n",
       "    </tr>\n",
       "    <tr>\n",
       "      <th>4</th>\n",
       "      <td>41</td>\n",
       "      <td>0.097561</td>\n",
       "    </tr>\n",
       "    <tr>\n",
       "      <th>5</th>\n",
       "      <td>9</td>\n",
       "      <td>0.000000</td>\n",
       "    </tr>\n",
       "  </tbody>\n",
       "</table>\n",
       "</div>"
      ],
      "text/plain": [
       "           debt          \n",
       "          count      mean\n",
       "children                 \n",
       "0         14091  0.075438\n",
       "1          4808  0.092346\n",
       "2          2052  0.094542\n",
       "3           330  0.081818\n",
       "4            41  0.097561\n",
       "5             9  0.000000"
      ]
     },
     "execution_count": 40,
     "metadata": {},
     "output_type": "execute_result"
    }
   ],
   "source": [
    "df.groupby('children').agg({'debt': ['count', 'mean']})"
   ]
  },
  {
   "cell_type": "markdown",
   "id": "stupid-scout",
   "metadata": {},
   "source": [
    "#### Вывод\n",
    "1. Да, зависимость от количества детей на возврат кредита в срок имеется. Наибольшая задолженность по кредиту у группы с 4 детьми. Меньше всего задолженность у тех, у кого нет детей. Группу с 5 детьми не рассматриваем, так как ее значения не значительны.\n",
    "\n",
    "2. Есть ли зависимость между семейным положением и возвратом кредита в срок?\n",
    "\n",
    "Сгруппируем таблицу по столбцу family_status и к столбцу debt применим функции count и mean."
   ]
  },
  {
   "cell_type": "code",
   "execution_count": 41,
   "id": "congressional-choice",
   "metadata": {},
   "outputs": [
    {
     "data": {
      "text/html": [
       "<div>\n",
       "<style scoped>\n",
       "    .dataframe tbody tr th:only-of-type {\n",
       "        vertical-align: middle;\n",
       "    }\n",
       "\n",
       "    .dataframe tbody tr th {\n",
       "        vertical-align: top;\n",
       "    }\n",
       "\n",
       "    .dataframe thead tr th {\n",
       "        text-align: left;\n",
       "    }\n",
       "\n",
       "    .dataframe thead tr:last-of-type th {\n",
       "        text-align: right;\n",
       "    }\n",
       "</style>\n",
       "<table border=\"1\" class=\"dataframe\">\n",
       "  <thead>\n",
       "    <tr>\n",
       "      <th></th>\n",
       "      <th colspan=\"2\" halign=\"left\">debt</th>\n",
       "    </tr>\n",
       "    <tr>\n",
       "      <th></th>\n",
       "      <th>count</th>\n",
       "      <th>mean</th>\n",
       "    </tr>\n",
       "    <tr>\n",
       "      <th>family_status</th>\n",
       "      <th></th>\n",
       "      <th></th>\n",
       "    </tr>\n",
       "  </thead>\n",
       "  <tbody>\n",
       "    <tr>\n",
       "      <th>в разводе</th>\n",
       "      <td>1189</td>\n",
       "      <td>0.070648</td>\n",
       "    </tr>\n",
       "    <tr>\n",
       "      <th>вдовец / вдова</th>\n",
       "      <td>951</td>\n",
       "      <td>0.066246</td>\n",
       "    </tr>\n",
       "    <tr>\n",
       "      <th>гражданский брак</th>\n",
       "      <td>4134</td>\n",
       "      <td>0.093130</td>\n",
       "    </tr>\n",
       "    <tr>\n",
       "      <th>женат / замужем</th>\n",
       "      <td>12261</td>\n",
       "      <td>0.075606</td>\n",
       "    </tr>\n",
       "    <tr>\n",
       "      <th>не женат / не замужем</th>\n",
       "      <td>2796</td>\n",
       "      <td>0.097639</td>\n",
       "    </tr>\n",
       "  </tbody>\n",
       "</table>\n",
       "</div>"
      ],
      "text/plain": [
       "                        debt          \n",
       "                       count      mean\n",
       "family_status                         \n",
       "в разводе               1189  0.070648\n",
       "вдовец / вдова           951  0.066246\n",
       "гражданский брак        4134  0.093130\n",
       "женат / замужем        12261  0.075606\n",
       "не женат / не замужем   2796  0.097639"
      ]
     },
     "execution_count": 41,
     "metadata": {},
     "output_type": "execute_result"
    }
   ],
   "source": [
    "df.groupby('family_status').agg({'debt': ['count', 'mean']})"
   ]
  },
  {
   "cell_type": "markdown",
   "id": "exact-motion",
   "metadata": {},
   "source": [
    "#### Вывод\n",
    "Наибольшая задолженность у тех, кто холост. Наименьшая задолженность у категории вдовцов , женатых и в разводе, так как супруги могли эффективнее выплачивать кредит.\n",
    "Связь между семейный положением и возвратом кредита в срок так же присутсвует.\n",
    "\n",
    "3. Есть ли зависимость между уровнем дохода и возвратом кредита в срок?\n",
    "\n",
    "Рассмотрим подробнее столбец total_income, чтобы в дальнейшем разделить заемщиков на категории дохода."
   ]
  },
  {
   "cell_type": "code",
   "execution_count": 44,
   "id": "determined-resolution",
   "metadata": {},
   "outputs": [
    {
     "data": {
      "text/plain": [
       "count      21331.0\n",
       "mean      165343.0\n",
       "std        98314.0\n",
       "min        20667.0\n",
       "25%       107507.0\n",
       "50%       142594.0\n",
       "75%       195842.0\n",
       "max      2265604.0\n",
       "Name: total_income, dtype: float64"
      ]
     },
     "execution_count": 44,
     "metadata": {},
     "output_type": "execute_result"
    }
   ],
   "source": [
    "df['total_income'].describe().round()"
   ]
  },
  {
   "cell_type": "markdown",
   "id": "coral-glucose",
   "metadata": {},
   "source": [
    "Разделим доходы на 3 категории: низкий, средний, высокий. Низкий до 107507, средний от 107507 до 195842, высокий от 195842."
   ]
  },
  {
   "cell_type": "code",
   "execution_count": 45,
   "id": "silent-google",
   "metadata": {},
   "outputs": [],
   "source": [
    "def total_income_groups(total_income):\n",
    "    if total_income <= 107507:\n",
    "        return 'низкий'\n",
    "    elif 107507 < total_income <= 195842:\n",
    "        return 'средний'\n",
    "    elif total_income > 195842:\n",
    "        return 'высокий'"
   ]
  },
  {
   "cell_type": "code",
   "execution_count": 46,
   "id": "radical-speaker",
   "metadata": {},
   "outputs": [],
   "source": [
    "df['total_income_group'] = df['total_income'].apply(total_income_groups)"
   ]
  },
  {
   "cell_type": "code",
   "execution_count": 47,
   "id": "otherwise-utility",
   "metadata": {},
   "outputs": [
    {
     "data": {
      "text/html": [
       "<div>\n",
       "<style scoped>\n",
       "    .dataframe tbody tr th:only-of-type {\n",
       "        vertical-align: middle;\n",
       "    }\n",
       "\n",
       "    .dataframe tbody tr th {\n",
       "        vertical-align: top;\n",
       "    }\n",
       "\n",
       "    .dataframe thead tr th {\n",
       "        text-align: left;\n",
       "    }\n",
       "\n",
       "    .dataframe thead tr:last-of-type th {\n",
       "        text-align: right;\n",
       "    }\n",
       "</style>\n",
       "<table border=\"1\" class=\"dataframe\">\n",
       "  <thead>\n",
       "    <tr>\n",
       "      <th></th>\n",
       "      <th colspan=\"2\" halign=\"left\">debt</th>\n",
       "    </tr>\n",
       "    <tr>\n",
       "      <th></th>\n",
       "      <th>count</th>\n",
       "      <th>mean</th>\n",
       "    </tr>\n",
       "    <tr>\n",
       "      <th>total_income_group</th>\n",
       "      <th></th>\n",
       "      <th></th>\n",
       "    </tr>\n",
       "  </thead>\n",
       "  <tbody>\n",
       "    <tr>\n",
       "      <th>высокий</th>\n",
       "      <td>5332</td>\n",
       "      <td>0.071455</td>\n",
       "    </tr>\n",
       "    <tr>\n",
       "      <th>низкий</th>\n",
       "      <td>5333</td>\n",
       "      <td>0.080068</td>\n",
       "    </tr>\n",
       "    <tr>\n",
       "      <th>средний</th>\n",
       "      <td>10666</td>\n",
       "      <td>0.086630</td>\n",
       "    </tr>\n",
       "  </tbody>\n",
       "</table>\n",
       "</div>"
      ],
      "text/plain": [
       "                     debt          \n",
       "                    count      mean\n",
       "total_income_group                 \n",
       "высокий              5332  0.071455\n",
       "низкий               5333  0.080068\n",
       "средний             10666  0.086630"
      ]
     },
     "execution_count": 47,
     "metadata": {},
     "output_type": "execute_result"
    }
   ],
   "source": [
    "df.groupby('total_income_group').agg({'debt': ['count', 'mean']})"
   ]
  },
  {
   "cell_type": "markdown",
   "id": "apparent-dressing",
   "metadata": {},
   "source": [
    "#### Вывод\n",
    "Люди с высоким уровнем дохода имеют процент задолженности ниже, чем люди с низким и средним уровнем доходов. Большее количество людей оказались в средней группе.\n",
    "\n",
    "4. Как разные цели кредита влияют на его возврат в срок?"
   ]
  },
  {
   "cell_type": "code",
   "execution_count": 48,
   "id": "bridal-convention",
   "metadata": {},
   "outputs": [
    {
     "data": {
      "text/html": [
       "<div>\n",
       "<style scoped>\n",
       "    .dataframe tbody tr th:only-of-type {\n",
       "        vertical-align: middle;\n",
       "    }\n",
       "\n",
       "    .dataframe tbody tr th {\n",
       "        vertical-align: top;\n",
       "    }\n",
       "\n",
       "    .dataframe thead tr th {\n",
       "        text-align: left;\n",
       "    }\n",
       "\n",
       "    .dataframe thead tr:last-of-type th {\n",
       "        text-align: right;\n",
       "    }\n",
       "</style>\n",
       "<table border=\"1\" class=\"dataframe\">\n",
       "  <thead>\n",
       "    <tr>\n",
       "      <th></th>\n",
       "      <th colspan=\"2\" halign=\"left\">debt</th>\n",
       "    </tr>\n",
       "    <tr>\n",
       "      <th></th>\n",
       "      <th>count</th>\n",
       "      <th>mean</th>\n",
       "    </tr>\n",
       "    <tr>\n",
       "      <th>purpose_category</th>\n",
       "      <th></th>\n",
       "      <th></th>\n",
       "    </tr>\n",
       "  </thead>\n",
       "  <tbody>\n",
       "    <tr>\n",
       "      <th>автомобиль</th>\n",
       "      <td>4279</td>\n",
       "      <td>0.093480</td>\n",
       "    </tr>\n",
       "    <tr>\n",
       "      <th>жилье</th>\n",
       "      <td>10751</td>\n",
       "      <td>0.072551</td>\n",
       "    </tr>\n",
       "    <tr>\n",
       "      <th>образование</th>\n",
       "      <td>3988</td>\n",
       "      <td>0.092528</td>\n",
       "    </tr>\n",
       "    <tr>\n",
       "      <th>свадьба</th>\n",
       "      <td>2313</td>\n",
       "      <td>0.079118</td>\n",
       "    </tr>\n",
       "  </tbody>\n",
       "</table>\n",
       "</div>"
      ],
      "text/plain": [
       "                   debt          \n",
       "                  count      mean\n",
       "purpose_category                 \n",
       "автомобиль         4279  0.093480\n",
       "жилье             10751  0.072551\n",
       "образование        3988  0.092528\n",
       "свадьба            2313  0.079118"
      ]
     },
     "execution_count": 48,
     "metadata": {},
     "output_type": "execute_result"
    }
   ],
   "source": [
    "df.groupby('purpose_category').agg({'debt': ['count', 'mean']})"
   ]
  },
  {
   "cell_type": "markdown",
   "id": "revolutionary-internship",
   "metadata": {},
   "source": [
    "#### Вывод\n",
    "Наибольший процент задолженности по кредиту у людей с целью покупки автомобиля и образования. Вероятно, что покупают автомобиль и образование молодые люди, которые еще не успевают устроиться на работу после окончания образования. Поэтому растут задолженности. Наименьший процент задолженности у тех, кто берет кредит на покупку жилья.\n",
    "\n",
    "### Шаг 4. Общий вывод\n",
    "Целью исследования является вопрос: влияет ли семейное положение и количество детей клиента на факт погашения кредита в срок. Необходимо проанализировать данные столбцов children и family_status."
   ]
  },
  {
   "cell_type": "code",
   "execution_count": null,
   "id": "furnished-motion",
   "metadata": {},
   "outputs": [],
   "source": [
    "df.groupby(['family_status', 'children']).agg({'debt': ['count', 'mean']})"
   ]
  },
  {
   "cell_type": "markdown",
   "id": "guided-journey",
   "metadata": {},
   "source": [
    "#### Вывод\n",
    "В целом, прослеживается связь между задолженностью и количеством детей, а также семейным положением. Чем больше детей у людей, тем выше задолженность. Семейное положение влияет на возврат кредита в срок. Меньше всего задолженность у тех, кто вдовец или женат. Больше всего задолженность у тех, кто находится в гражданском браке и у тех, кто холост."
   ]
  }
 ],
 "metadata": {
  "kernelspec": {
   "display_name": "Python 3 (ipykernel)",
   "language": "python",
   "name": "python3"
  },
  "language_info": {
   "codemirror_mode": {
    "name": "ipython",
    "version": 3
   },
   "file_extension": ".py",
   "mimetype": "text/x-python",
   "name": "python",
   "nbconvert_exporter": "python",
   "pygments_lexer": "ipython3",
   "version": "3.8.10"
  }
 },
 "nbformat": 4,
 "nbformat_minor": 5
}
